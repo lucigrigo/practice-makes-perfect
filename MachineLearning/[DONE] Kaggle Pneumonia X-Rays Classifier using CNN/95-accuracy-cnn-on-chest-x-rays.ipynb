{
 "cells": [
  {
   "cell_type": "markdown",
   "metadata": {
    "papermill": {
     "duration": 0.020673,
     "end_time": "2020-10-31T19:54:12.998058",
     "exception": false,
     "start_time": "2020-10-31T19:54:12.977385",
     "status": "completed"
    },
    "tags": []
   },
   "source": [
    "# Introduction\n",
    "Hi!\n",
    "This notebook uses one of the hottest topics in Deep Learning at the moment, the **Convolutional Neural Network**.\n",
    "A CNN looks basically like such:\n",
    "![](https://miro.medium.com/max/2000/1*vkQ0hXDaQv57sALXAJquxA.jpeg)\n",
    "\n",
    "*More information about Convolutional Neural Networks can be found [here](https://brilliant.org/wiki/convolutional-neural-network/).*"
   ]
  },
  {
   "cell_type": "markdown",
   "metadata": {
    "papermill": {
     "duration": 0.01953,
     "end_time": "2020-10-31T19:54:13.037294",
     "exception": false,
     "start_time": "2020-10-31T19:54:13.017764",
     "status": "completed"
    },
    "tags": []
   },
   "source": [
    "# Importing libraries\n",
    "*Note about using dropout: There is not a rule of thumb whether or not the use of Dropout between CNN layers improves the results and in this case the results were approximately the same with or without it.*"
   ]
  },
  {
   "cell_type": "code",
   "execution_count": 1,
   "metadata": {
    "_cell_guid": "bf158b24-eb6a-40d8-ab3a-1353ae2cd2ef",
    "_uuid": "4ec158dc-70e4-4f6d-b5fa-9b1f8167770f",
    "execution": {
     "iopub.execute_input": "2020-10-31T19:54:13.086815Z",
     "iopub.status.busy": "2020-10-31T19:54:13.086017Z",
     "iopub.status.idle": "2020-10-31T19:54:19.298980Z",
     "shell.execute_reply": "2020-10-31T19:54:19.298101Z"
    },
    "papermill": {
     "duration": 6.239966,
     "end_time": "2020-10-31T19:54:19.299127",
     "exception": false,
     "start_time": "2020-10-31T19:54:13.059161",
     "status": "completed"
    },
    "tags": []
   },
   "outputs": [],
   "source": [
    "from keras.models import Sequential\n",
    "from keras.layers import Conv2D\n",
    "from keras.layers import MaxPool2D\n",
    "from keras.layers import Flatten\n",
    "from keras.layers import Dense\n",
    "from keras.layers import Dropout # optionally we can remove dropout from our layers\n",
    "from keras.optimizers import RMSprop\n",
    "from keras.preprocessing.image import ImageDataGenerator"
   ]
  },
  {
   "cell_type": "markdown",
   "metadata": {
    "papermill": {
     "duration": 0.019236,
     "end_time": "2020-10-31T19:54:19.339271",
     "exception": false,
     "start_time": "2020-10-31T19:54:19.320035",
     "status": "completed"
    },
    "tags": []
   },
   "source": [
    "# Initialising the Neural Network"
   ]
  },
  {
   "cell_type": "code",
   "execution_count": 2,
   "metadata": {
    "_cell_guid": "21a9a5ef-ffd0-4625-9f1b-5fb2341c8297",
    "_uuid": "8df3dc27-477f-4224-98cd-27e6a55934f0",
    "execution": {
     "iopub.execute_input": "2020-10-31T19:54:19.384267Z",
     "iopub.status.busy": "2020-10-31T19:54:19.383448Z",
     "iopub.status.idle": "2020-10-31T19:54:19.454173Z",
     "shell.execute_reply": "2020-10-31T19:54:19.453512Z"
    },
    "papermill": {
     "duration": 0.0953,
     "end_time": "2020-10-31T19:54:19.454323",
     "exception": false,
     "start_time": "2020-10-31T19:54:19.359023",
     "status": "completed"
    },
    "tags": []
   },
   "outputs": [],
   "source": [
    "classifier = Sequential()"
   ]
  },
  {
   "cell_type": "markdown",
   "metadata": {
    "papermill": {
     "duration": 0.020169,
     "end_time": "2020-10-31T19:54:19.494894",
     "exception": false,
     "start_time": "2020-10-31T19:54:19.474725",
     "status": "completed"
    },
    "tags": []
   },
   "source": [
    "# Step 1 - Convolution"
   ]
  },
  {
   "cell_type": "code",
   "execution_count": 3,
   "metadata": {
    "_cell_guid": "2f3cb53b-6ef9-4118-975f-666b4329a46b",
    "_uuid": "1fd06815-ca9e-4669-80c0-9a979b29c921",
    "execution": {
     "iopub.execute_input": "2020-10-31T19:54:19.548471Z",
     "iopub.status.busy": "2020-10-31T19:54:19.547394Z",
     "iopub.status.idle": "2020-10-31T19:54:19.589519Z",
     "shell.execute_reply": "2020-10-31T19:54:19.588801Z"
    },
    "papermill": {
     "duration": 0.074888,
     "end_time": "2020-10-31T19:54:19.589652",
     "exception": false,
     "start_time": "2020-10-31T19:54:19.514764",
     "status": "completed"
    },
    "tags": []
   },
   "outputs": [],
   "source": [
    "classifier.add(Conv2D(filters = 64,\n",
    "                        kernel_size = 3,\n",
    "                        input_shape = [128, 128, 3],\n",
    "                        activation = 'relu'))"
   ]
  },
  {
   "cell_type": "markdown",
   "metadata": {
    "papermill": {
     "duration": 0.019289,
     "end_time": "2020-10-31T19:54:19.628784",
     "exception": false,
     "start_time": "2020-10-31T19:54:19.609495",
     "status": "completed"
    },
    "tags": []
   },
   "source": [
    "# Step 2 - Pooling"
   ]
  },
  {
   "cell_type": "code",
   "execution_count": 4,
   "metadata": {
    "_cell_guid": "271caa5f-ba85-424e-acc3-4a00fd0146a6",
    "_uuid": "f67c62b2-62d7-4198-adbd-5a3c359b07e3",
    "execution": {
     "iopub.execute_input": "2020-10-31T19:54:19.678456Z",
     "iopub.status.busy": "2020-10-31T19:54:19.677410Z",
     "iopub.status.idle": "2020-10-31T19:54:19.680111Z",
     "shell.execute_reply": "2020-10-31T19:54:19.680710Z"
    },
    "papermill": {
     "duration": 0.031806,
     "end_time": "2020-10-31T19:54:19.680870",
     "exception": false,
     "start_time": "2020-10-31T19:54:19.649064",
     "status": "completed"
    },
    "tags": []
   },
   "outputs": [],
   "source": [
    "classifier.add(MaxPool2D(pool_size = 2,\n",
    "                        strides = 2))"
   ]
  },
  {
   "cell_type": "markdown",
   "metadata": {
    "papermill": {
     "duration": 0.019631,
     "end_time": "2020-10-31T19:54:19.720486",
     "exception": false,
     "start_time": "2020-10-31T19:54:19.700855",
     "status": "completed"
    },
    "tags": []
   },
   "source": [
    "# Adding additional layers\n",
    "Following the same pattern as the first."
   ]
  },
  {
   "cell_type": "code",
   "execution_count": 5,
   "metadata": {
    "_cell_guid": "d5ebe471-e56e-473f-9a44-0d3ec13bed6c",
    "_uuid": "48eaf6f8-3fa2-4feb-ba3c-ff6dbbed9add",
    "execution": {
     "iopub.execute_input": "2020-10-31T19:54:19.774715Z",
     "iopub.status.busy": "2020-10-31T19:54:19.773939Z",
     "iopub.status.idle": "2020-10-31T19:54:19.864711Z",
     "shell.execute_reply": "2020-10-31T19:54:19.864041Z"
    },
    "papermill": {
     "duration": 0.12442,
     "end_time": "2020-10-31T19:54:19.864846",
     "exception": false,
     "start_time": "2020-10-31T19:54:19.740426",
     "status": "completed"
    },
    "tags": []
   },
   "outputs": [],
   "source": [
    "# Second convolution layer\n",
    "classifier.add(Conv2D(filters = 64,\n",
    "                        kernel_size = 3,\n",
    "                        activation = 'relu'))\n",
    "classifier.add(Dropout(0.5))\n",
    "classifier.add(MaxPool2D(pool_size = 2,\n",
    "                        strides = 2))\n",
    "\n",
    "# Third convolution layer\n",
    "classifier.add(Conv2D(filters = 64,\n",
    "                        kernel_size = 3,\n",
    "                        activation = 'relu'))\n",
    "classifier.add(Dropout(0.2))\n",
    "classifier.add(MaxPool2D(pool_size = 2,\n",
    "                        strides = 2))\n",
    "\n",
    "# Second convolution layer\n",
    "classifier.add(Conv2D(filters = 64,\n",
    "                        kernel_size = 3,\n",
    "                        activation = 'relu'))\n",
    "classifier.add(Dropout(0.2))\n",
    "classifier.add(MaxPool2D(pool_size = 2,\n",
    "                        strides = 2))"
   ]
  },
  {
   "cell_type": "markdown",
   "metadata": {
    "papermill": {
     "duration": 0.019736,
     "end_time": "2020-10-31T19:54:19.904742",
     "exception": false,
     "start_time": "2020-10-31T19:54:19.885006",
     "status": "completed"
    },
    "tags": []
   },
   "source": [
    "# Step 3 - Flattening"
   ]
  },
  {
   "cell_type": "code",
   "execution_count": 6,
   "metadata": {
    "_cell_guid": "6fee3cac-c28c-46ce-ba04-df46c7018fe1",
    "_uuid": "39970548-0fdf-4c1c-84d5-f0eff1a13a39",
    "execution": {
     "iopub.execute_input": "2020-10-31T19:54:19.956456Z",
     "iopub.status.busy": "2020-10-31T19:54:19.954010Z",
     "iopub.status.idle": "2020-10-31T19:54:19.959384Z",
     "shell.execute_reply": "2020-10-31T19:54:19.959917Z"
    },
    "papermill": {
     "duration": 0.035126,
     "end_time": "2020-10-31T19:54:19.960080",
     "exception": false,
     "start_time": "2020-10-31T19:54:19.924954",
     "status": "completed"
    },
    "tags": []
   },
   "outputs": [],
   "source": [
    "classifier.add(Flatten())"
   ]
  },
  {
   "cell_type": "markdown",
   "metadata": {
    "papermill": {
     "duration": 0.019842,
     "end_time": "2020-10-31T19:54:20.000196",
     "exception": false,
     "start_time": "2020-10-31T19:54:19.980354",
     "status": "completed"
    },
    "tags": []
   },
   "source": [
    "# Step 4 - Full connection (output layer)"
   ]
  },
  {
   "cell_type": "code",
   "execution_count": 7,
   "metadata": {
    "_cell_guid": "00c53add-6a66-4c22-816b-c2e8a36e2062",
    "_uuid": "2ac9c429-e73c-45e0-af2a-6ccdcc44dabb",
    "execution": {
     "iopub.execute_input": "2020-10-31T19:54:20.049014Z",
     "iopub.status.busy": "2020-10-31T19:54:20.048268Z",
     "iopub.status.idle": "2020-10-31T19:54:20.066092Z",
     "shell.execute_reply": "2020-10-31T19:54:20.065472Z"
    },
    "papermill": {
     "duration": 0.045708,
     "end_time": "2020-10-31T19:54:20.066240",
     "exception": false,
     "start_time": "2020-10-31T19:54:20.020532",
     "status": "completed"
    },
    "tags": []
   },
   "outputs": [],
   "source": [
    "classifier.add(Dense(units = 32,\n",
    "                   activation = 'relu'))\n",
    "classifier.add(Dense(units = 1,\n",
    "                activation = 'sigmoid'))"
   ]
  },
  {
   "cell_type": "markdown",
   "metadata": {
    "papermill": {
     "duration": 0.02006,
     "end_time": "2020-10-31T19:54:20.107200",
     "exception": false,
     "start_time": "2020-10-31T19:54:20.087140",
     "status": "completed"
    },
    "tags": []
   },
   "source": [
    "# Compiling the neural network"
   ]
  },
  {
   "cell_type": "code",
   "execution_count": 8,
   "metadata": {
    "_cell_guid": "9cd515cf-af43-4522-b130-42623700fd87",
    "_uuid": "986a39c0-2015-41dc-bfc1-663fdad0c40b",
    "execution": {
     "iopub.execute_input": "2020-10-31T19:54:20.162861Z",
     "iopub.status.busy": "2020-10-31T19:54:20.161762Z",
     "iopub.status.idle": "2020-10-31T19:54:20.168707Z",
     "shell.execute_reply": "2020-10-31T19:54:20.168080Z"
    },
    "papermill": {
     "duration": 0.041186,
     "end_time": "2020-10-31T19:54:20.168828",
     "exception": false,
     "start_time": "2020-10-31T19:54:20.127642",
     "status": "completed"
    },
    "tags": []
   },
   "outputs": [],
   "source": [
    "classifier.compile(optimizer = RMSprop(),\n",
    "                   loss = 'binary_crossentropy',\n",
    "                   metrics = ['accuracy'])"
   ]
  },
  {
   "cell_type": "markdown",
   "metadata": {
    "_cell_guid": "8883f048-2b56-4cc1-914b-64b6d4813afd",
    "_uuid": "03d042f7-aede-46c0-84cf-963c1867f45d",
    "papermill": {
     "duration": 0.02006,
     "end_time": "2020-10-31T19:54:20.209557",
     "exception": false,
     "start_time": "2020-10-31T19:54:20.189497",
     "status": "completed"
    },
    "tags": []
   },
   "source": [
    "# Visualising the summary of the network"
   ]
  },
  {
   "cell_type": "code",
   "execution_count": 9,
   "metadata": {
    "_cell_guid": "ca9e0408-937c-4c99-8541-b88421ee5391",
    "_uuid": "5b1be63d-4353-4613-abee-6812afffa6da",
    "execution": {
     "iopub.execute_input": "2020-10-31T19:54:20.259304Z",
     "iopub.status.busy": "2020-10-31T19:54:20.257606Z",
     "iopub.status.idle": "2020-10-31T19:54:20.264929Z",
     "shell.execute_reply": "2020-10-31T19:54:20.264271Z"
    },
    "papermill": {
     "duration": 0.034467,
     "end_time": "2020-10-31T19:54:20.265063",
     "exception": false,
     "start_time": "2020-10-31T19:54:20.230596",
     "status": "completed"
    },
    "tags": []
   },
   "outputs": [
    {
     "name": "stdout",
     "output_type": "stream",
     "text": [
      "Model: \"sequential\"\n",
      "_________________________________________________________________\n",
      "Layer (type)                 Output Shape              Param #   \n",
      "=================================================================\n",
      "conv2d (Conv2D)              (None, 126, 126, 64)      1792      \n",
      "_________________________________________________________________\n",
      "max_pooling2d (MaxPooling2D) (None, 63, 63, 64)        0         \n",
      "_________________________________________________________________\n",
      "conv2d_1 (Conv2D)            (None, 61, 61, 64)        36928     \n",
      "_________________________________________________________________\n",
      "dropout (Dropout)            (None, 61, 61, 64)        0         \n",
      "_________________________________________________________________\n",
      "max_pooling2d_1 (MaxPooling2 (None, 30, 30, 64)        0         \n",
      "_________________________________________________________________\n",
      "conv2d_2 (Conv2D)            (None, 28, 28, 64)        36928     \n",
      "_________________________________________________________________\n",
      "dropout_1 (Dropout)          (None, 28, 28, 64)        0         \n",
      "_________________________________________________________________\n",
      "max_pooling2d_2 (MaxPooling2 (None, 14, 14, 64)        0         \n",
      "_________________________________________________________________\n",
      "conv2d_3 (Conv2D)            (None, 12, 12, 64)        36928     \n",
      "_________________________________________________________________\n",
      "dropout_2 (Dropout)          (None, 12, 12, 64)        0         \n",
      "_________________________________________________________________\n",
      "max_pooling2d_3 (MaxPooling2 (None, 6, 6, 64)          0         \n",
      "_________________________________________________________________\n",
      "flatten (Flatten)            (None, 2304)              0         \n",
      "_________________________________________________________________\n",
      "dense (Dense)                (None, 32)                73760     \n",
      "_________________________________________________________________\n",
      "dense_1 (Dense)              (None, 1)                 33        \n",
      "=================================================================\n",
      "Total params: 186,369\n",
      "Trainable params: 186,369\n",
      "Non-trainable params: 0\n",
      "_________________________________________________________________\n"
     ]
    }
   ],
   "source": [
    "classifier.summary()"
   ]
  },
  {
   "cell_type": "markdown",
   "metadata": {
    "papermill": {
     "duration": 0.021219,
     "end_time": "2020-10-31T19:54:20.308166",
     "exception": false,
     "start_time": "2020-10-31T19:54:20.286947",
     "status": "completed"
    },
    "tags": []
   },
   "source": [
    "# Importing train and test images"
   ]
  },
  {
   "cell_type": "code",
   "execution_count": 10,
   "metadata": {
    "_cell_guid": "b80a2414-f58a-4f92-81e9-df30729fc43f",
    "_uuid": "11badf46-b3d4-4a67-b9c2-b60aa2b98337",
    "execution": {
     "iopub.execute_input": "2020-10-31T19:54:20.358495Z",
     "iopub.status.busy": "2020-10-31T19:54:20.357376Z",
     "iopub.status.idle": "2020-10-31T19:54:20.361058Z",
     "shell.execute_reply": "2020-10-31T19:54:20.360453Z"
    },
    "papermill": {
     "duration": 0.031488,
     "end_time": "2020-10-31T19:54:20.361180",
     "exception": false,
     "start_time": "2020-10-31T19:54:20.329692",
     "status": "completed"
    },
    "tags": []
   },
   "outputs": [],
   "source": [
    "train_datagen = ImageDataGenerator(\n",
    "        rescale = 1./255,\n",
    "        shear_range = 0.2,\n",
    "        zoom_range = 0.2,\n",
    "        horizontal_flip = True)\n",
    "\n",
    "test_datagen = ImageDataGenerator(rescale = 1./255)"
   ]
  },
  {
   "cell_type": "markdown",
   "metadata": {
    "papermill": {
     "duration": 0.021259,
     "end_time": "2020-10-31T19:54:20.403948",
     "exception": false,
     "start_time": "2020-10-31T19:54:20.382689",
     "status": "completed"
    },
    "tags": []
   },
   "source": [
    "Providing training set using batches."
   ]
  },
  {
   "cell_type": "code",
   "execution_count": 11,
   "metadata": {
    "_cell_guid": "4f8cdc22-55f0-40e1-8ff2-7bf515c05a3e",
    "_uuid": "a6ac48a6-e280-4a28-85ca-b07205f3a39b",
    "execution": {
     "iopub.execute_input": "2020-10-31T19:54:20.453742Z",
     "iopub.status.busy": "2020-10-31T19:54:20.452814Z",
     "iopub.status.idle": "2020-10-31T19:54:21.402149Z",
     "shell.execute_reply": "2020-10-31T19:54:21.402799Z"
    },
    "papermill": {
     "duration": 0.97724,
     "end_time": "2020-10-31T19:54:21.402971",
     "exception": false,
     "start_time": "2020-10-31T19:54:20.425731",
     "status": "completed"
    },
    "tags": []
   },
   "outputs": [
    {
     "name": "stdout",
     "output_type": "stream",
     "text": [
      "Found 5216 images belonging to 2 classes.\n"
     ]
    }
   ],
   "source": [
    "training_set = train_datagen.flow_from_directory('../input/chest-xray-pneumonia/chest_xray/train/',\n",
    "                                                 target_size = (128, 128),\n",
    "                                                 batch_size = 32,\n",
    "                                                 class_mode = 'binary')"
   ]
  },
  {
   "cell_type": "markdown",
   "metadata": {
    "papermill": {
     "duration": 0.022193,
     "end_time": "2020-10-31T19:54:21.448188",
     "exception": false,
     "start_time": "2020-10-31T19:54:21.425995",
     "status": "completed"
    },
    "tags": []
   },
   "source": [
    "Providing test set also using batches."
   ]
  },
  {
   "cell_type": "code",
   "execution_count": 12,
   "metadata": {
    "_cell_guid": "de4a162f-04e4-44ac-b0f8-f038df7b6f5d",
    "_uuid": "f582e0bb-be30-4236-a20e-f4644549fa3b",
    "execution": {
     "iopub.execute_input": "2020-10-31T19:54:21.500244Z",
     "iopub.status.busy": "2020-10-31T19:54:21.499151Z",
     "iopub.status.idle": "2020-10-31T19:54:21.607195Z",
     "shell.execute_reply": "2020-10-31T19:54:21.606520Z"
    },
    "papermill": {
     "duration": 0.136672,
     "end_time": "2020-10-31T19:54:21.607339",
     "exception": false,
     "start_time": "2020-10-31T19:54:21.470667",
     "status": "completed"
    },
    "tags": []
   },
   "outputs": [
    {
     "name": "stdout",
     "output_type": "stream",
     "text": [
      "Found 624 images belonging to 2 classes.\n"
     ]
    }
   ],
   "source": [
    "test_set = test_datagen.flow_from_directory('../input/chest-xray-pneumonia/chest_xray/test/',\n",
    "                                            target_size = (128, 128),\n",
    "                                            batch_size = 32,\n",
    "                                            class_mode = 'binary')"
   ]
  },
  {
   "cell_type": "markdown",
   "metadata": {
    "papermill": {
     "duration": 0.022268,
     "end_time": "2020-10-31T19:54:21.652777",
     "exception": false,
     "start_time": "2020-10-31T19:54:21.630509",
     "status": "completed"
    },
    "tags": []
   },
   "source": [
    "# Fitting the classifier to the dataset\n",
    "And, of course, visualising the results of our model."
   ]
  },
  {
   "cell_type": "code",
   "execution_count": 13,
   "metadata": {
    "_cell_guid": "6ec06041-7975-4b3f-9d00-7fb3fd733be5",
    "_uuid": "e447d19a-4c71-49ba-83a2-3687f2434fc9",
    "execution": {
     "iopub.execute_input": "2020-10-31T19:54:21.705190Z",
     "iopub.status.busy": "2020-10-31T19:54:21.704438Z",
     "iopub.status.idle": "2020-10-31T20:50:40.604553Z",
     "shell.execute_reply": "2020-10-31T20:50:40.603697Z"
    },
    "papermill": {
     "duration": 3378.929108,
     "end_time": "2020-10-31T20:50:40.604708",
     "exception": false,
     "start_time": "2020-10-31T19:54:21.675600",
     "status": "completed"
    },
    "tags": []
   },
   "outputs": [
    {
     "name": "stdout",
     "output_type": "stream",
     "text": [
      "Epoch 1/20\n",
      "163/163 [==============================] - 180s 1s/step - loss: 0.5183 - accuracy: 0.7408 - val_loss: 0.5723 - val_accuracy: 0.8526\n",
      "Epoch 2/20\n",
      "163/163 [==============================] - 167s 1s/step - loss: 0.3676 - accuracy: 0.8583 - val_loss: 0.4612 - val_accuracy: 0.7804\n",
      "Epoch 3/20\n",
      "163/163 [==============================] - 165s 1s/step - loss: 0.2834 - accuracy: 0.8854 - val_loss: 0.3863 - val_accuracy: 0.8333\n",
      "Epoch 4/20\n",
      "163/163 [==============================] - 165s 1s/step - loss: 0.2370 - accuracy: 0.9084 - val_loss: 0.3295 - val_accuracy: 0.8974\n",
      "Epoch 5/20\n",
      "163/163 [==============================] - 167s 1s/step - loss: 0.2138 - accuracy: 0.9174 - val_loss: 0.3146 - val_accuracy: 0.9071\n",
      "Epoch 6/20\n",
      "163/163 [==============================] - 167s 1s/step - loss: 0.2014 - accuracy: 0.9252 - val_loss: 0.3666 - val_accuracy: 0.8526\n",
      "Epoch 7/20\n",
      "163/163 [==============================] - 167s 1s/step - loss: 0.1838 - accuracy: 0.9304 - val_loss: 0.2983 - val_accuracy: 0.9087\n",
      "Epoch 8/20\n",
      "163/163 [==============================] - 167s 1s/step - loss: 0.1778 - accuracy: 0.9316 - val_loss: 0.4500 - val_accuracy: 0.8333\n",
      "Epoch 9/20\n",
      "163/163 [==============================] - 167s 1s/step - loss: 0.1600 - accuracy: 0.9425 - val_loss: 0.3897 - val_accuracy: 0.8301\n",
      "Epoch 10/20\n",
      "163/163 [==============================] - 166s 1s/step - loss: 0.1598 - accuracy: 0.9415 - val_loss: 0.3404 - val_accuracy: 0.8510\n",
      "Epoch 11/20\n",
      "163/163 [==============================] - 168s 1s/step - loss: 0.1572 - accuracy: 0.9375 - val_loss: 0.4158 - val_accuracy: 0.8189\n",
      "Epoch 12/20\n",
      "163/163 [==============================] - 167s 1s/step - loss: 0.1526 - accuracy: 0.9433 - val_loss: 0.3848 - val_accuracy: 0.8462\n",
      "Epoch 13/20\n",
      "163/163 [==============================] - 167s 1s/step - loss: 0.1727 - accuracy: 0.9436 - val_loss: 0.4291 - val_accuracy: 0.8301\n",
      "Epoch 14/20\n",
      "163/163 [==============================] - 166s 1s/step - loss: 0.1333 - accuracy: 0.9511 - val_loss: 0.4299 - val_accuracy: 0.8109\n",
      "Epoch 15/20\n",
      "163/163 [==============================] - 166s 1s/step - loss: 0.1560 - accuracy: 0.9396 - val_loss: 0.3504 - val_accuracy: 0.8702\n",
      "Epoch 16/20\n",
      "163/163 [==============================] - 166s 1s/step - loss: 0.1471 - accuracy: 0.9505 - val_loss: 0.3688 - val_accuracy: 0.8381\n",
      "Epoch 17/20\n",
      "163/163 [==============================] - 167s 1s/step - loss: 0.1446 - accuracy: 0.9482 - val_loss: 0.2856 - val_accuracy: 0.9022\n",
      "Epoch 18/20\n",
      "163/163 [==============================] - 167s 1s/step - loss: 0.1664 - accuracy: 0.9433 - val_loss: 0.2520 - val_accuracy: 0.9167\n",
      "Epoch 19/20\n",
      "163/163 [==============================] - 166s 1s/step - loss: 0.1402 - accuracy: 0.9494 - val_loss: 0.3240 - val_accuracy: 0.8830\n",
      "Epoch 20/20\n",
      "163/163 [==============================] - 167s 1s/step - loss: 0.1356 - accuracy: 0.9507 - val_loss: 0.3621 - val_accuracy: 0.8942\n"
     ]
    },
    {
     "data": {
      "text/plain": [
       "<tensorflow.python.keras.callbacks.History at 0x7fdf665cf5d0>"
      ]
     },
     "execution_count": 13,
     "metadata": {},
     "output_type": "execute_result"
    }
   ],
   "source": [
    "classifier.fit(x = training_set,\n",
    "                epochs = 20,\n",
    "                validation_data = test_set)"
   ]
  },
  {
   "cell_type": "markdown",
   "metadata": {
    "papermill": {
     "duration": 1.336201,
     "end_time": "2020-10-31T20:50:43.274504",
     "exception": false,
     "start_time": "2020-10-31T20:50:41.938303",
     "status": "completed"
    },
    "tags": []
   },
   "source": [
    "# Visualising the results\n",
    "\n",
    "Our model has an accuracy of ~95%, which is without any doubt an outstanding outcome."
   ]
  },
  {
   "cell_type": "markdown",
   "metadata": {
    "papermill": {
     "duration": 1.36734,
     "end_time": "2020-10-31T20:50:45.982583",
     "exception": false,
     "start_time": "2020-10-31T20:50:44.615243",
     "status": "completed"
    },
    "tags": []
   },
   "source": [
    "# Thank you for your attention!\n",
    "Don't forget to leave an upvote if you enjoyed this notebook and don't forget to leave any feedback or suggestion in the comments below. \n",
    "\n",
    "Have a nice day! :)"
   ]
  }
 ],
 "metadata": {
  "kernelspec": {
   "display_name": "Python 3",
   "language": "python",
   "name": "python3"
  },
  "language_info": {
   "codemirror_mode": {
    "name": "ipython",
    "version": 3
   },
   "file_extension": ".py",
   "mimetype": "text/x-python",
   "name": "python",
   "nbconvert_exporter": "python",
   "pygments_lexer": "ipython3",
   "version": "3.7.6"
  },
  "papermill": {
   "duration": 3399.261151,
   "end_time": "2020-10-31T20:50:47.422814",
   "environment_variables": {},
   "exception": null,
   "input_path": "__notebook__.ipynb",
   "output_path": "__notebook__.ipynb",
   "parameters": {},
   "start_time": "2020-10-31T19:54:08.161663",
   "version": "2.1.0"
  }
 },
 "nbformat": 4,
 "nbformat_minor": 4
}
